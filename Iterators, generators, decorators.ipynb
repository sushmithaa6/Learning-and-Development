{
 "cells": [
  {
   "cell_type": "code",
   "execution_count": 5,
   "id": "8f14ebdd-35ad-4c25-aa4e-86be0e5f0f2f",
   "metadata": {},
   "outputs": [],
   "source": [
    "import time\n",
    "\n",
    "# Iterator: Fibonacci numbers\n",
    "class FibonacciIterator:\n",
    "    def __init__(self, limit):\n",
    "        self.limit = limit\n",
    "        self.a, self.b = 0, 1\n",
    "        self.count = 0\n",
    "\n",
    "    def __iter__(self):\n",
    "        return self\n",
    "\n",
    "    def __next__(self):\n",
    "        if self.count >= self.limit:\n",
    "            raise StopIteration\n",
    "        else:\n",
    "            result = self.a\n",
    "            self.a, self.b = self.b, self.a + self.b\n",
    "            self.count += 1\n",
    "            return result"
   ]
  },
  {
   "cell_type": "code",
   "execution_count": 6,
   "id": "f4e58bc5-57f2-47a9-870e-1b4d048a7515",
   "metadata": {},
   "outputs": [],
   "source": [
    "# Decorator: Measure execution time\n",
    "def timing_decorator(func):\n",
    "    def wrapper(*args, **kwargs):\n",
    "        start_time = time.time()\n",
    "        result = func(*args, **kwargs)\n",
    "        end_time = time.time()\n",
    "        print(f\"{func.__name__} took {end_time - start_time:.6f} seconds to execute.\")\n",
    "        return result\n",
    "    return wrapper"
   ]
  },
  {
   "cell_type": "code",
   "execution_count": 7,
   "id": "aa5f09f9-c620-4d67-8002-b895381e791d",
   "metadata": {},
   "outputs": [],
   "source": [
    "# Generator: Squares of numbers\n",
    "def square_generator(n):\n",
    "    for i in range(n):\n",
    "        yield i**2"
   ]
  },
  {
   "cell_type": "code",
   "execution_count": 8,
   "id": "89a5738b-178b-4979-b558-687d3e50fa52",
   "metadata": {},
   "outputs": [
    {
     "name": "stdout",
     "output_type": "stream",
     "text": [
      "Fibonacci Numbers:\n",
      "0 1 1 2 3 5 8 13 21 34 \n",
      "\n",
      "Squares of Numbers:\n",
      "0 1 4 9 16 \n",
      "\n",
      "main took 0.001001 seconds to execute.\n"
     ]
    }
   ],
   "source": [
    "# Using the iterator, decorator, and generator\n",
    "@timing_decorator\n",
    "def main():\n",
    "    # Using Fibonacci Iterator\n",
    "    print(\"Fibonacci Numbers:\")\n",
    "    fib_iterator = FibonacciIterator(10)\n",
    "    for num in fib_iterator:\n",
    "        print(num, end=\" \")\n",
    "    print(\"\\n\")\n",
    "\n",
    "    # Using Square Generator\n",
    "    print(\"Squares of Numbers:\")\n",
    "    for square in square_generator(5):\n",
    "        print(square, end=\" \")\n",
    "    print(\"\\n\")\n",
    "\n",
    "if __name__ == \"__main__\":\n",
    "    main()\n"
   ]
  }
 ],
 "metadata": {
  "kernelspec": {
   "display_name": "Python 3 (ipykernel)",
   "language": "python",
   "name": "python3"
  },
  "language_info": {
   "codemirror_mode": {
    "name": "ipython",
    "version": 3
   },
   "file_extension": ".py",
   "mimetype": "text/x-python",
   "name": "python",
   "nbconvert_exporter": "python",
   "pygments_lexer": "ipython3",
   "version": "3.12.1"
  }
 },
 "nbformat": 4,
 "nbformat_minor": 5
}
