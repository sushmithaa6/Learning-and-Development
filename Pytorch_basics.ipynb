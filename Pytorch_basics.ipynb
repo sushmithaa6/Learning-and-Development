{
  "nbformat": 4,
  "nbformat_minor": 0,
  "metadata": {
    "colab": {
      "provenance": [],
      "gpuType": "T4",
      "authorship_tag": "ABX9TyND4INzJcJNZljxNevmVAP6"
    },
    "kernelspec": {
      "name": "python3",
      "display_name": "Python 3"
    },
    "language_info": {
      "name": "python"
    },
    "accelerator": "GPU"
  },
  "cells": [
    {
      "cell_type": "code",
      "execution_count": null,
      "metadata": {
        "id": "Z1T7WJvY1YPj"
      },
      "outputs": [],
      "source": [
        "import torch"
      ]
    },
    {
      "cell_type": "markdown",
      "source": [],
      "metadata": {
        "id": "HR-t7vEIF-xE"
      }
    },
    {
      "cell_type": "code",
      "source": [
        "print(\"this is the best laptop\")"
      ],
      "metadata": {
        "colab": {
          "base_uri": "https://localhost:8080/"
        },
        "id": "qFTZQHq71Z0B",
        "outputId": "cc0ca437-5abc-4109-b076-8abe52d28a42"
      },
      "execution_count": null,
      "outputs": [
        {
          "output_type": "stream",
          "name": "stdout",
          "text": [
            "this is the best laptop\n"
          ]
        }
      ]
    },
    {
      "cell_type": "code",
      "source": [
        "x=torch.empty(2,2,3)\n",
        "print(x)"
      ],
      "metadata": {
        "id": "Tjdng8xZ1sdC",
        "colab": {
          "base_uri": "https://localhost:8080/"
        },
        "outputId": "b6c006a8-7181-4384-848c-7ec56513e4ed"
      },
      "execution_count": null,
      "outputs": [
        {
          "output_type": "stream",
          "name": "stdout",
          "text": [
            "tensor([[[7.1428e+31, 2.0196e-19, 1.1723e-19],\n",
            "         [5.0746e+31, 4.2964e+24, 4.6304e+27]],\n",
            "\n",
            "        [[6.9776e+22, 7.5244e+28, 1.8524e+28],\n",
            "         [1.7836e+31, 6.8608e+22, 1.2119e+25]]])\n"
          ]
        }
      ]
    },
    {
      "cell_type": "code",
      "source": [
        "x=torch.rand(2,3)\n",
        "x"
      ],
      "metadata": {
        "colab": {
          "base_uri": "https://localhost:8080/"
        },
        "id": "YDmm9BZ4liYs",
        "outputId": "918db58a-e92a-4ffd-e32b-60e2081a6478"
      },
      "execution_count": null,
      "outputs": [
        {
          "output_type": "execute_result",
          "data": {
            "text/plain": [
              "tensor([[0.2771, 0.8573, 0.9915],\n",
              "        [0.8611, 0.0884, 0.1540]])"
            ]
          },
          "metadata": {},
          "execution_count": 4
        }
      ]
    },
    {
      "cell_type": "code",
      "source": [
        "x=torch.zeros(2,4)\n",
        "x"
      ],
      "metadata": {
        "colab": {
          "base_uri": "https://localhost:8080/"
        },
        "id": "LuHIHyUxmGHY",
        "outputId": "d2a0c2aa-b67f-4bea-d22a-432b1bba100f"
      },
      "execution_count": null,
      "outputs": [
        {
          "output_type": "execute_result",
          "data": {
            "text/plain": [
              "tensor([[0., 0., 0., 0.],\n",
              "        [0., 0., 0., 0.]])"
            ]
          },
          "metadata": {},
          "execution_count": 5
        }
      ]
    },
    {
      "cell_type": "code",
      "source": [
        "x=torch.ones(1)\n",
        "x"
      ],
      "metadata": {
        "colab": {
          "base_uri": "https://localhost:8080/"
        },
        "id": "lK4Ed8WCmPat",
        "outputId": "d30a72a8-90c5-4beb-8ac9-80f853614ba2"
      },
      "execution_count": null,
      "outputs": [
        {
          "output_type": "execute_result",
          "data": {
            "text/plain": [
              "tensor([1.])"
            ]
          },
          "metadata": {},
          "execution_count": 6
        }
      ]
    },
    {
      "cell_type": "code",
      "source": [],
      "metadata": {
        "id": "h22yR5lamxRf"
      },
      "execution_count": null,
      "outputs": []
    },
    {
      "cell_type": "code",
      "source": [
        "x=torch.ones(1,4,dtype=torch.int)\n",
        "x"
      ],
      "metadata": {
        "colab": {
          "base_uri": "https://localhost:8080/"
        },
        "id": "tMmeUvq4mant",
        "outputId": "b32d1bcb-94d4-4c1f-f5bf-5023ae11172d"
      },
      "execution_count": null,
      "outputs": [
        {
          "output_type": "execute_result",
          "data": {
            "text/plain": [
              "tensor([[1, 1, 1, 1]], dtype=torch.int32)"
            ]
          },
          "metadata": {},
          "execution_count": 7
        }
      ]
    },
    {
      "cell_type": "code",
      "source": [
        "x.size()"
      ],
      "metadata": {
        "colab": {
          "base_uri": "https://localhost:8080/"
        },
        "id": "JeZADdWsmkJu",
        "outputId": "fdcd3d44-b51f-424d-a0b6-f2281037d85b"
      },
      "execution_count": null,
      "outputs": [
        {
          "output_type": "execute_result",
          "data": {
            "text/plain": [
              "torch.Size([1, 4])"
            ]
          },
          "metadata": {},
          "execution_count": 8
        }
      ]
    },
    {
      "cell_type": "code",
      "source": [
        "x=torch.tensor([2.5,0.1])\n",
        "x"
      ],
      "metadata": {
        "colab": {
          "base_uri": "https://localhost:8080/"
        },
        "id": "LxCiQE9um25O",
        "outputId": "e572079e-d41a-4055-8b1c-a9ebbd0b3457"
      },
      "execution_count": null,
      "outputs": [
        {
          "output_type": "execute_result",
          "data": {
            "text/plain": [
              "tensor([2.5000, 0.1000])"
            ]
          },
          "metadata": {},
          "execution_count": 9
        }
      ]
    },
    {
      "cell_type": "code",
      "source": [
        "x=torch.rand(2,2)\n",
        "y=torch.rand(2,2)\n",
        "print(x)\n",
        "print(y)\n",
        "x+y"
      ],
      "metadata": {
        "colab": {
          "base_uri": "https://localhost:8080/"
        },
        "id": "IliEb8tonDMB",
        "outputId": "8ed20281-b218-4751-be28-8e4e74c328ff"
      },
      "execution_count": null,
      "outputs": [
        {
          "output_type": "stream",
          "name": "stdout",
          "text": [
            "tensor([[0.5065, 0.6852],\n",
            "        [0.9181, 0.8023]])\n",
            "tensor([[0.3967, 0.9210],\n",
            "        [0.5518, 0.3833]])\n"
          ]
        },
        {
          "output_type": "execute_result",
          "data": {
            "text/plain": [
              "tensor([[0.9032, 1.6062],\n",
              "        [1.4699, 1.1856]])"
            ]
          },
          "metadata": {},
          "execution_count": 10
        }
      ]
    },
    {
      "cell_type": "code",
      "source": [
        "x-y"
      ],
      "metadata": {
        "colab": {
          "base_uri": "https://localhost:8080/"
        },
        "id": "i3JOA7E1nMSs",
        "outputId": "c024997e-aef9-447e-b432-8a7990d71646"
      },
      "execution_count": null,
      "outputs": [
        {
          "output_type": "execute_result",
          "data": {
            "text/plain": [
              "tensor([[ 0.1098, -0.2358],\n",
              "        [ 0.3663,  0.4190]])"
            ]
          },
          "metadata": {},
          "execution_count": 11
        }
      ]
    },
    {
      "cell_type": "code",
      "source": [
        "x*y"
      ],
      "metadata": {
        "colab": {
          "base_uri": "https://localhost:8080/"
        },
        "id": "d9a41Zw3nfxD",
        "outputId": "86a60f06-f92d-4a8d-89d1-0ea2c77828e6"
      },
      "execution_count": null,
      "outputs": [
        {
          "output_type": "execute_result",
          "data": {
            "text/plain": [
              "tensor([[0.2009, 0.6310],\n",
              "        [0.5066, 0.3075]])"
            ]
          },
          "metadata": {},
          "execution_count": 12
        }
      ]
    },
    {
      "cell_type": "code",
      "source": [
        "x=torch.rand(5,3)\n",
        "x"
      ],
      "metadata": {
        "colab": {
          "base_uri": "https://localhost:8080/"
        },
        "id": "nqhHnnPAnil9",
        "outputId": "bf17946b-0be1-4944-860a-7722700743b9"
      },
      "execution_count": null,
      "outputs": [
        {
          "output_type": "execute_result",
          "data": {
            "text/plain": [
              "tensor([[0.9319, 0.9072, 0.0429],\n",
              "        [0.6854, 0.6079, 0.5979],\n",
              "        [0.4646, 0.2489, 0.9408],\n",
              "        [0.5083, 0.1917, 0.2862],\n",
              "        [0.8730, 0.1290, 0.8502]])"
            ]
          },
          "metadata": {},
          "execution_count": 13
        }
      ]
    },
    {
      "cell_type": "code",
      "source": [
        "x[:,0]"
      ],
      "metadata": {
        "colab": {
          "base_uri": "https://localhost:8080/"
        },
        "id": "pW_x5c-Fnxmc",
        "outputId": "2e8bd9e5-6ef5-4bc6-e057-3f2c3a93a57f"
      },
      "execution_count": null,
      "outputs": [
        {
          "output_type": "execute_result",
          "data": {
            "text/plain": [
              "tensor([0.9319, 0.6854, 0.4646, 0.5083, 0.8730])"
            ]
          },
          "metadata": {},
          "execution_count": 14
        }
      ]
    },
    {
      "cell_type": "code",
      "source": [
        "x[1,1]"
      ],
      "metadata": {
        "colab": {
          "base_uri": "https://localhost:8080/"
        },
        "id": "I9UkYvsjn1Jd",
        "outputId": "8f204f43-b8e4-4d40-9c50-1ef3b137c210"
      },
      "execution_count": null,
      "outputs": [
        {
          "output_type": "execute_result",
          "data": {
            "text/plain": [
              "tensor(0.6079)"
            ]
          },
          "metadata": {},
          "execution_count": 15
        }
      ]
    },
    {
      "cell_type": "code",
      "source": [
        "x.size()"
      ],
      "metadata": {
        "colab": {
          "base_uri": "https://localhost:8080/"
        },
        "id": "j7I1MehhoK1D",
        "outputId": "a6b40a7c-80b3-471b-bd33-5dc4adc0b075"
      },
      "execution_count": null,
      "outputs": [
        {
          "output_type": "execute_result",
          "data": {
            "text/plain": [
              "torch.Size([5, 3])"
            ]
          },
          "metadata": {},
          "execution_count": 16
        }
      ]
    },
    {
      "cell_type": "code",
      "source": [
        "z=x.view(-1,5)\n",
        "z"
      ],
      "metadata": {
        "colab": {
          "base_uri": "https://localhost:8080/"
        },
        "id": "XCEwimvkpG_5",
        "outputId": "aecada97-2ecd-4477-8e7f-815012b3ffa1"
      },
      "execution_count": null,
      "outputs": [
        {
          "output_type": "execute_result",
          "data": {
            "text/plain": [
              "tensor([[0.9319, 0.9072, 0.0429, 0.6854, 0.6079],\n",
              "        [0.5979, 0.4646, 0.2489, 0.9408, 0.5083],\n",
              "        [0.1917, 0.2862, 0.8730, 0.1290, 0.8502]])"
            ]
          },
          "metadata": {},
          "execution_count": 17
        }
      ]
    },
    {
      "cell_type": "code",
      "source": [
        "z.size()"
      ],
      "metadata": {
        "colab": {
          "base_uri": "https://localhost:8080/"
        },
        "id": "DCj8nZ3vpPRb",
        "outputId": "61a03918-7c5a-476b-cc74-a495e8a1be93"
      },
      "execution_count": null,
      "outputs": [
        {
          "output_type": "execute_result",
          "data": {
            "text/plain": [
              "torch.Size([3, 5])"
            ]
          },
          "metadata": {},
          "execution_count": 18
        }
      ]
    },
    {
      "cell_type": "code",
      "source": [
        "x.dtype"
      ],
      "metadata": {
        "colab": {
          "base_uri": "https://localhost:8080/"
        },
        "id": "KYCv_BZXpS95",
        "outputId": "a41993dc-5ef8-4772-85e6-13d59cdad69d"
      },
      "execution_count": null,
      "outputs": [
        {
          "output_type": "execute_result",
          "data": {
            "text/plain": [
              "torch.float32"
            ]
          },
          "metadata": {},
          "execution_count": 19
        }
      ]
    },
    {
      "cell_type": "code",
      "source": [],
      "metadata": {
        "id": "H8vd0dZbpzVO"
      },
      "execution_count": null,
      "outputs": []
    }
  ]
}