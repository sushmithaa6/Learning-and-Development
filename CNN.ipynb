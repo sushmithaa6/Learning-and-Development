{
  "cells": [
    {
      "cell_type": "code",
      "execution_count": 1,
      "metadata": {
        "id": "rNRQxej6Ikq4"
      },
      "outputs": [],
      "source": [
        "import torch\n",
        "import torchvision\n",
        "import torchvision.transforms as transforms\n",
        "import torch.nn as nn\n",
        "import torch.nn.functional as F"
      ]
    },
    {
      "cell_type": "code",
      "execution_count": 2,
      "metadata": {
        "id": "e5tnxlT_Ikq9"
      },
      "outputs": [],
      "source": [
        "transform = transforms.Compose([transforms.ToTensor(),transforms.Normalize((0.1307,), (0.3081,))])"
      ]
    },
    {
      "cell_type": "code",
      "execution_count": 3,
      "metadata": {
        "id": "wZlUkbccIkq_",
        "colab": {
          "base_uri": "https://localhost:8080/"
        },
        "outputId": "d725d219-ba8c-4aa4-f013-964e478aed0e"
      },
      "outputs": [
        {
          "output_type": "stream",
          "name": "stdout",
          "text": [
            "Downloading http://yann.lecun.com/exdb/mnist/train-images-idx3-ubyte.gz\n",
            "Downloading http://yann.lecun.com/exdb/mnist/train-images-idx3-ubyte.gz to ./data/MNIST/raw/train-images-idx3-ubyte.gz\n"
          ]
        },
        {
          "output_type": "stream",
          "name": "stderr",
          "text": [
            "100%|██████████| 9912422/9912422 [00:00<00:00, 113013714.30it/s]\n"
          ]
        },
        {
          "output_type": "stream",
          "name": "stdout",
          "text": [
            "Extracting ./data/MNIST/raw/train-images-idx3-ubyte.gz to ./data/MNIST/raw\n",
            "\n",
            "Downloading http://yann.lecun.com/exdb/mnist/train-labels-idx1-ubyte.gz\n",
            "Downloading http://yann.lecun.com/exdb/mnist/train-labels-idx1-ubyte.gz to ./data/MNIST/raw/train-labels-idx1-ubyte.gz\n"
          ]
        },
        {
          "output_type": "stream",
          "name": "stderr",
          "text": [
            "100%|██████████| 28881/28881 [00:00<00:00, 38346215.20it/s]\n"
          ]
        },
        {
          "output_type": "stream",
          "name": "stdout",
          "text": [
            "Extracting ./data/MNIST/raw/train-labels-idx1-ubyte.gz to ./data/MNIST/raw\n",
            "\n",
            "Downloading http://yann.lecun.com/exdb/mnist/t10k-images-idx3-ubyte.gz\n",
            "Downloading http://yann.lecun.com/exdb/mnist/t10k-images-idx3-ubyte.gz to ./data/MNIST/raw/t10k-images-idx3-ubyte.gz\n"
          ]
        },
        {
          "output_type": "stream",
          "name": "stderr",
          "text": [
            "100%|██████████| 1648877/1648877 [00:00<00:00, 32053779.43it/s]\n"
          ]
        },
        {
          "output_type": "stream",
          "name": "stdout",
          "text": [
            "Extracting ./data/MNIST/raw/t10k-images-idx3-ubyte.gz to ./data/MNIST/raw\n",
            "\n",
            "Downloading http://yann.lecun.com/exdb/mnist/t10k-labels-idx1-ubyte.gz\n",
            "Downloading http://yann.lecun.com/exdb/mnist/t10k-labels-idx1-ubyte.gz to ./data/MNIST/raw/t10k-labels-idx1-ubyte.gz\n"
          ]
        },
        {
          "output_type": "stream",
          "name": "stderr",
          "text": [
            "100%|██████████| 4542/4542 [00:00<00:00, 13854930.01it/s]\n"
          ]
        },
        {
          "output_type": "stream",
          "name": "stdout",
          "text": [
            "Extracting ./data/MNIST/raw/t10k-labels-idx1-ubyte.gz to ./data/MNIST/raw\n",
            "\n"
          ]
        }
      ],
      "source": [
        "trainset = torchvision.datasets.MNIST(root='./data', train=True, download=True, transform=transform)"
      ]
    },
    {
      "cell_type": "code",
      "execution_count": 4,
      "metadata": {
        "id": "26TCR_SLIkrA"
      },
      "outputs": [],
      "source": [
        "testset = torchvision.datasets.MNIST(root='./data', train=False, download=True, transform=transform)"
      ]
    },
    {
      "cell_type": "code",
      "execution_count": 5,
      "metadata": {
        "id": "DdnjqDS8IkrA"
      },
      "outputs": [],
      "source": [
        "trainloader = torch.utils.data.DataLoader(trainset,batch_size=128,shuffle=True,num_workers=2)\n",
        "testloader = torch.utils.data.DataLoader(testset,batch_size=128,shuffle=False,num_workers=2)"
      ]
    },
    {
      "cell_type": "code",
      "execution_count": 6,
      "metadata": {
        "id": "xD0ma9IyIkrG"
      },
      "outputs": [],
      "source": [
        "device = torch.device(\"cuda:0\" if torch.cuda.is_available() else \"cpu\")"
      ]
    },
    {
      "cell_type": "code",
      "execution_count": 7,
      "metadata": {
        "id": "D1hx9GWWIkrI",
        "outputId": "56ca0f4e-9373-4bb6-bdef-60a8d734be9e",
        "colab": {
          "base_uri": "https://localhost:8080/"
        }
      },
      "outputs": [
        {
          "output_type": "stream",
          "name": "stdout",
          "text": [
            "Net(\n",
            "  (conv1): Conv2d(1, 32, kernel_size=(3, 3), stride=(1, 1))\n",
            "  (conv2): Conv2d(32, 64, kernel_size=(3, 3), stride=(1, 1))\n",
            "  (pool): MaxPool2d(kernel_size=2, stride=2, padding=0, dilation=1, ceil_mode=False)\n",
            "  (dropout1): Dropout2d(p=0.25, inplace=False)\n",
            "  (dense1): Linear(in_features=9216, out_features=128, bias=True)\n",
            "  (dropout2): Dropout(p=0.5, inplace=False)\n",
            "  (dense2): Linear(in_features=128, out_features=10, bias=True)\n",
            ")\n"
          ]
        }
      ],
      "source": [
        "class Net(nn.Module):\n",
        "    def __init__(self):\n",
        "        super(Net,self).__init__()\n",
        "        self.conv1 = nn.Conv2d(1,32,3)\n",
        "        self.conv2 = nn.Conv2d(32,64,3)\n",
        "        self.pool = nn.MaxPool2d(2)\n",
        "        self.dropout1 = nn.Dropout2d(0.25)\n",
        "        self.dense1 = nn.Linear(64*12*12,128)\n",
        "        self.dropout2 = nn.Dropout(0.5)\n",
        "        self.dense2 = nn.Linear(128,10)\n",
        "    def forward(self,x):\n",
        "        x = F.relu(self.conv1(x))\n",
        "        x = F.relu(self.conv2(x))\n",
        "        x = self.pool(x)\n",
        "        x = self.dropout1(x)\n",
        "        x = x.view(-1,64*12*12)\n",
        "        x = F.relu(self.dense1(x))\n",
        "        x = self.dropout2(x)\n",
        "        x = self.dense2(x)\n",
        "        return x\n",
        "\n",
        "net = Net()\n",
        "net.to(device)\n",
        "print(net)"
      ]
    },
    {
      "cell_type": "code",
      "execution_count": 8,
      "metadata": {
        "id": "Q_T5YvkkIkrL"
      },
      "outputs": [],
      "source": [
        "import torch.optim as optim\n",
        "criterion = nn.CrossEntropyLoss()\n",
        "optimizer = optim.Adam(net.parameters(),lr=0.001)"
      ]
    },
    {
      "cell_type": "code",
      "execution_count": 9,
      "metadata": {
        "id": "TFnk9hZ6IkrN"
      },
      "outputs": [],
      "source": [
        "def train(model, device, train_loader, optimizer, criterion, epoch, train_losses):\n",
        "    model.train()\n",
        "    train_loss = 0\n",
        "    for data, target in train_loader:\n",
        "        data, target = data.to(device), target.to(device)\n",
        "        optimizer.zero_grad()\n",
        "        output = model(data)\n",
        "        loss = criterion(output, target)\n",
        "        loss.backward(retain_graph=True)\n",
        "        optimizer.step()\n",
        "        train_loss += loss.item()*data.size(0)\n",
        "\n",
        "    train_loss = ((train_loss)/len(train_loader.dataset))\n",
        "    train_losses.append(train_loss)\n",
        "\n",
        "    print(\"Train Epoch: %d Train Loss: %.4f.\" % (epoch, train_loss))\n",
        "\n",
        "\n",
        "def test(model, device, test_loader, criterion, epoch, test_losses, accuracies):\n",
        "    model.eval()\n",
        "    test_loss = 0\n",
        "    correct = 0\n",
        "    with torch.no_grad():\n",
        "        for data, target in test_loader:\n",
        "            data, target = data.to(device), target.to(device)\n",
        "            output = model(data)\n",
        "            test_loss += criterion(output, target)\n",
        "            pred = output.argmax(dim=1, keepdim=True)\n",
        "            correct += pred.eq(target.view_as(pred)).sum().item()\n",
        "\n",
        "    test_loss = (test_loss/len(test_loader.dataset))\n",
        "\n",
        "    accuracy = (100*correct)/len(test_loader.dataset)\n",
        "    accuracies.append(accuracy)\n",
        "    test_losses.append(test_loss)\n",
        "\n",
        "    print(\"Test Epoch: %d Test Loss: %.4f Test Accuray: %.2f.\" %\n",
        "          (epoch, test_loss, accuracy))\n",
        "\n",
        "\n",
        "def fit(model, device, train_loader, test_loader, optimizer, criterion, no_of_epochs):\n",
        "    train_losses = []\n",
        "    test_losses = []\n",
        "    accuracies = []\n",
        "    for epoch in range(0, no_of_epochs):\n",
        "        train(model, device, train_loader, optimizer,\n",
        "              criterion, epoch, train_losses)\n",
        "        test(model, device, test_loader, criterion,\n",
        "             epoch, test_losses, accuracies)\n",
        "    return train_losses, test_losses, accuracies"
      ]
    },
    {
      "cell_type": "code",
      "execution_count": 10,
      "metadata": {
        "id": "uyTgaw9WIkrP",
        "colab": {
          "base_uri": "https://localhost:8080/"
        },
        "outputId": "4ab0bd2e-cc03-43c7-9be8-53e12bbbc340"
      },
      "outputs": [
        {
          "output_type": "stream",
          "name": "stdout",
          "text": [
            "Train Epoch: 0 Train Loss: 0.2271.\n",
            "Test Epoch: 0 Test Loss: 0.0004 Test Accuray: 98.47.\n",
            "Train Epoch: 1 Train Loss: 0.0891.\n",
            "Test Epoch: 1 Test Loss: 0.0003 Test Accuray: 98.70.\n",
            "Train Epoch: 2 Train Loss: 0.0669.\n",
            "Test Epoch: 2 Test Loss: 0.0003 Test Accuray: 98.83.\n",
            "Train Epoch: 3 Train Loss: 0.0568.\n",
            "Test Epoch: 3 Test Loss: 0.0002 Test Accuray: 99.04.\n",
            "Train Epoch: 4 Train Loss: 0.0487.\n",
            "Test Epoch: 4 Test Loss: 0.0002 Test Accuray: 99.06.\n",
            "Train Epoch: 5 Train Loss: 0.0418.\n",
            "Test Epoch: 5 Test Loss: 0.0002 Test Accuray: 99.03.\n",
            "Train Epoch: 6 Train Loss: 0.0368.\n",
            "Test Epoch: 6 Test Loss: 0.0002 Test Accuray: 99.14.\n",
            "Train Epoch: 7 Train Loss: 0.0365.\n",
            "Test Epoch: 7 Test Loss: 0.0002 Test Accuray: 99.14.\n",
            "Train Epoch: 8 Train Loss: 0.0305.\n",
            "Test Epoch: 8 Test Loss: 0.0002 Test Accuray: 99.12.\n",
            "Train Epoch: 9 Train Loss: 0.0295.\n",
            "Test Epoch: 9 Test Loss: 0.0002 Test Accuray: 99.29.\n"
          ]
        }
      ],
      "source": [
        "train_losses,test_losses,accuracies = fit(net,device,trainloader,testloader,optimizer,criterion,10)"
      ]
    }
  ],
  "metadata": {
    "kernelspec": {
      "display_name": "Python 3",
      "name": "python3"
    },
    "language_info": {
      "codemirror_mode": {
        "name": "ipython",
        "version": 3
      },
      "file_extension": ".py",
      "mimetype": "text/x-python",
      "name": "python",
      "nbconvert_exporter": "python",
      "pygments_lexer": "ipython3",
      "version": "3.6.8"
    },
    "colab": {
      "provenance": [],
      "gpuType": "T4"
    },
    "accelerator": "GPU"
  },
  "nbformat": 4,
  "nbformat_minor": 0
}